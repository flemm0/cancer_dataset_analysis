{
  "cells": [
    {
      "cell_type": "code",
      "execution_count": null,
      "metadata": {
        "colab": {
          "base_uri": "https://localhost:8080/"
        },
        "id": "Z87wlwJfFY0q",
        "outputId": "aee69263-b1b4-4373-8863-7ca1fa332472"
      },
      "outputs": [
        {
          "output_type": "stream",
          "name": "stderr",
          "text": [
            "/usr/local/lib/python3.7/dist-packages/IPython/core/interactiveshell.py:2882: DtypeWarning: Columns (7,11,20,22,44,48,53,54,77,81,84,85,87,89,90,91,92,93,116,117,118,119,120,121,122,123,124,125,126,127,128,129,130,131,132,133,134,135,137,138,139,140,141,142,143,144,145,146,148,150,151,153,155,156,157,158,159,162,164,166,167,168,169,170,171,176,177,178,181,182,184,188,189,191,193,194,195,196,197,198,199,200,201,202,203,204,205,207,211,212,214,215,216,217,218,220,221,222,224,225,226,227,228,229,230,231,232,233,234,236,237,238,239,241,242,250,251,252,253,254,255,256,258,259,260,261,262,263,264,265,268,269,270,271,272,273,274,275,276,277,278,279,280,281,282,283,284,285,286,287,288,289,290,291,292,293,294,295,296,297,298,299,300,301,302,303,304,305,306,307,308,310,311,314,315,316,317,318,319,320,321,322,323,324,325,327,328,333,334,335,336,339,341,342,343,344,345,346,347,350,351,352,353,354,355,358,360,361,362,363,364,365,366,367,368,369,370,371,372,373,374,376,377,378,379,381,382,383,384,385,386,387,388,401,402,410,413,414,417,418,419,420,421,423,424,425,426,428,429,430,431,436,439,440,442,444,445,447,448,449,450,451,452,453,457,458,459,460,462,463,464,465,466,468,469,470,471,472,473,474,475,477,478,479,480,481,482,483,485,486,487,489,490,491,492,494,495,496,498,499,500,501,502,503,505,507,508,509,510,511,514,515,516,517,519,520,521,522,523,524,525,527,528,529,530,531,532,533,534,535,536,537,540,542,543,545,547,548,549,550,551,552,553,559,560,562,563,564,565,567,568,569,570,571,572,573,574,575,576,577,578,579,580,582,583,584,585,586,587,589,590,591,592,593,594,595,596,597,598,599,600,601,602,603,604,605,606,607,608,609,611,612,613,615,616,617,618,619,620,621,626,628,630,636,637,640,641,642,643,644,646,647,648,649,650,651,652,653,654,655,656,657,660,661,662,667,669,670,671,674,680,681,682,684,685,686,687,690,691,692,695,698,700,703,708,711,712,716,721,722,724,725,733,738,743) have mixed types.Specify dtype option on import or set low_memory=False.\n",
            "  exec(code_obj, self.user_global_ns, self.user_ns)\n"
          ]
        }
      ],
      "source": [
        "import pandas as pd\n",
        "import numpy as np\n",
        "import matplotlib.pyplot as plt\n",
        "import datetime\n",
        "from lifelines import KaplanMeierFitter, NelsonAalenFitter\n",
        "\n",
        "url = 'https://raw.githubusercontent.com/flemm0/cancer_dataset_analysis/main/cancer-datasets_filtered_pancan_clinical.csv?token=GHSAT0AAAAAABQTFKFTJAZ3GU4UL2AE6QZWYQFU6RQ'\n",
        "df = pd.read_csv(url)"
      ]
    },
    {
      "cell_type": "code",
      "execution_count": null,
      "metadata": {
        "id": "eZmg2ZiDFY0t",
        "outputId": "11abebf0-eff6-40ba-8a73-3aeda8daf810"
      },
      "outputs": [
        {
          "data": {
            "text/html": [
              "<div>\n",
              "<style scoped>\n",
              "    .dataframe tbody tr th:only-of-type {\n",
              "        vertical-align: middle;\n",
              "    }\n",
              "\n",
              "    .dataframe tbody tr th {\n",
              "        vertical-align: top;\n",
              "    }\n",
              "\n",
              "    .dataframe thead th {\n",
              "        text-align: right;\n",
              "    }\n",
              "</style>\n",
              "<table border=\"1\" class=\"dataframe\">\n",
              "  <thead>\n",
              "    <tr style=\"text-align: right;\">\n",
              "      <th></th>\n",
              "      <th>bcr_patient_uuid</th>\n",
              "      <th>bcr_patient_barcode</th>\n",
              "      <th>acronym</th>\n",
              "      <th>gender</th>\n",
              "      <th>vital_status</th>\n",
              "      <th>days_to_birth</th>\n",
              "      <th>days_to_death</th>\n",
              "      <th>days_to_last_followup</th>\n",
              "      <th>days_to_initial_pathologic_diagnosis</th>\n",
              "      <th>age_at_initial_pathologic_diagnosis</th>\n",
              "      <th>...</th>\n",
              "      <th>total_bilirubin_upper_limit</th>\n",
              "      <th>platelet_result_count</th>\n",
              "      <th>fibrosis_ishak_score</th>\n",
              "      <th>fetoprotein_outcome_value</th>\n",
              "      <th>fetoprotein_outcome_upper_limit</th>\n",
              "      <th>fetoprotein_outcome_lower_limit</th>\n",
              "      <th>inter_norm_ratio_lower_limit</th>\n",
              "      <th>family_cancer_type_txt</th>\n",
              "      <th>bilirubin_upper_limit</th>\n",
              "      <th>days_to_last_known_alive</th>\n",
              "    </tr>\n",
              "  </thead>\n",
              "  <tbody>\n",
              "    <tr>\n",
              "      <th>0</th>\n",
              "      <td>C2F1B2D5-1302-4E29-8889-37BA34E91DE2</td>\n",
              "      <td>TCGA-IQ-A6SG</td>\n",
              "      <td>HNSC</td>\n",
              "      <td>FEMALE</td>\n",
              "      <td>Alive</td>\n",
              "      <td>-22529.0</td>\n",
              "      <td>[Not Applicable]</td>\n",
              "      <td>579.0</td>\n",
              "      <td>0.0</td>\n",
              "      <td>61.0</td>\n",
              "      <td>...</td>\n",
              "      <td>NaN</td>\n",
              "      <td>NaN</td>\n",
              "      <td>NaN</td>\n",
              "      <td>NaN</td>\n",
              "      <td>NaN</td>\n",
              "      <td>NaN</td>\n",
              "      <td>NaN</td>\n",
              "      <td>NaN</td>\n",
              "      <td>NaN</td>\n",
              "      <td>NaN</td>\n",
              "    </tr>\n",
              "    <tr>\n",
              "      <th>1</th>\n",
              "      <td>573E3713-781F-447E-9F4D-A7FAAE4A4F03</td>\n",
              "      <td>TCGA-IQ-A6SH</td>\n",
              "      <td>HNSC</td>\n",
              "      <td>MALE</td>\n",
              "      <td>Alive</td>\n",
              "      <td>-20109.0</td>\n",
              "      <td>[Not Applicable]</td>\n",
              "      <td>471.0</td>\n",
              "      <td>0.0</td>\n",
              "      <td>55.0</td>\n",
              "      <td>...</td>\n",
              "      <td>NaN</td>\n",
              "      <td>NaN</td>\n",
              "      <td>NaN</td>\n",
              "      <td>NaN</td>\n",
              "      <td>NaN</td>\n",
              "      <td>NaN</td>\n",
              "      <td>NaN</td>\n",
              "      <td>NaN</td>\n",
              "      <td>NaN</td>\n",
              "      <td>NaN</td>\n",
              "    </tr>\n",
              "    <tr>\n",
              "      <th>2</th>\n",
              "      <td>59DD907E-C674-46C2-BCE7-63517D5AE7A7</td>\n",
              "      <td>TCGA-XP-A8T7</td>\n",
              "      <td>ESCA</td>\n",
              "      <td>FEMALE</td>\n",
              "      <td>Alive</td>\n",
              "      <td>-23375.0</td>\n",
              "      <td>[Not Applicable]</td>\n",
              "      <td>1254.0</td>\n",
              "      <td>0.0</td>\n",
              "      <td>63.0</td>\n",
              "      <td>...</td>\n",
              "      <td>NaN</td>\n",
              "      <td>NaN</td>\n",
              "      <td>NaN</td>\n",
              "      <td>NaN</td>\n",
              "      <td>NaN</td>\n",
              "      <td>NaN</td>\n",
              "      <td>NaN</td>\n",
              "      <td>NaN</td>\n",
              "      <td>NaN</td>\n",
              "      <td>NaN</td>\n",
              "    </tr>\n",
              "    <tr>\n",
              "      <th>3</th>\n",
              "      <td>F4CB24E9-E7FD-4245-9C9B-7E0934038446</td>\n",
              "      <td>TCGA-XP-A8T6</td>\n",
              "      <td>ESCA</td>\n",
              "      <td>MALE</td>\n",
              "      <td>Dead</td>\n",
              "      <td>-19886.0</td>\n",
              "      <td>763.0</td>\n",
              "      <td>NaN</td>\n",
              "      <td>0.0</td>\n",
              "      <td>54.0</td>\n",
              "      <td>...</td>\n",
              "      <td>NaN</td>\n",
              "      <td>NaN</td>\n",
              "      <td>NaN</td>\n",
              "      <td>NaN</td>\n",
              "      <td>NaN</td>\n",
              "      <td>NaN</td>\n",
              "      <td>NaN</td>\n",
              "      <td>NaN</td>\n",
              "      <td>NaN</td>\n",
              "      <td>NaN</td>\n",
              "    </tr>\n",
              "    <tr>\n",
              "      <th>4</th>\n",
              "      <td>9fa752b7-9873-4bad-9eba-8cc113705fed</td>\n",
              "      <td>TCGA-CD-5804</td>\n",
              "      <td>STAD</td>\n",
              "      <td>MALE</td>\n",
              "      <td>Alive</td>\n",
              "      <td>-32872.0</td>\n",
              "      <td>[Not Applicable]</td>\n",
              "      <td>368.0</td>\n",
              "      <td>0.0</td>\n",
              "      <td>90.0</td>\n",
              "      <td>...</td>\n",
              "      <td>NaN</td>\n",
              "      <td>NaN</td>\n",
              "      <td>NaN</td>\n",
              "      <td>NaN</td>\n",
              "      <td>NaN</td>\n",
              "      <td>NaN</td>\n",
              "      <td>NaN</td>\n",
              "      <td>NaN</td>\n",
              "      <td>NaN</td>\n",
              "      <td>NaN</td>\n",
              "    </tr>\n",
              "    <tr>\n",
              "      <th>...</th>\n",
              "      <td>...</td>\n",
              "      <td>...</td>\n",
              "      <td>...</td>\n",
              "      <td>...</td>\n",
              "      <td>...</td>\n",
              "      <td>...</td>\n",
              "      <td>...</td>\n",
              "      <td>...</td>\n",
              "      <td>...</td>\n",
              "      <td>...</td>\n",
              "      <td>...</td>\n",
              "      <td>...</td>\n",
              "      <td>...</td>\n",
              "      <td>...</td>\n",
              "      <td>...</td>\n",
              "      <td>...</td>\n",
              "      <td>...</td>\n",
              "      <td>...</td>\n",
              "      <td>...</td>\n",
              "      <td>...</td>\n",
              "      <td>...</td>\n",
              "    </tr>\n",
              "    <tr>\n",
              "      <th>10756</th>\n",
              "      <td>a0700d6d-df7b-4327-8738-97b8ad08fd4c</td>\n",
              "      <td>TCGA-06-0240</td>\n",
              "      <td>GBM</td>\n",
              "      <td>MALE</td>\n",
              "      <td>Dead</td>\n",
              "      <td>-20937.0</td>\n",
              "      <td>621</td>\n",
              "      <td>NaN</td>\n",
              "      <td>0.0</td>\n",
              "      <td>57.0</td>\n",
              "      <td>...</td>\n",
              "      <td>NaN</td>\n",
              "      <td>NaN</td>\n",
              "      <td>NaN</td>\n",
              "      <td>NaN</td>\n",
              "      <td>NaN</td>\n",
              "      <td>NaN</td>\n",
              "      <td>NaN</td>\n",
              "      <td>NaN</td>\n",
              "      <td>NaN</td>\n",
              "      <td>NaN</td>\n",
              "    </tr>\n",
              "    <tr>\n",
              "      <th>10757</th>\n",
              "      <td>7529980c-839d-4887-b5d7-09a3e7159427</td>\n",
              "      <td>TCGA-06-0142</td>\n",
              "      <td>GBM</td>\n",
              "      <td>MALE</td>\n",
              "      <td>Dead</td>\n",
              "      <td>-29642.0</td>\n",
              "      <td>67</td>\n",
              "      <td>NaN</td>\n",
              "      <td>0.0</td>\n",
              "      <td>81.0</td>\n",
              "      <td>...</td>\n",
              "      <td>NaN</td>\n",
              "      <td>NaN</td>\n",
              "      <td>NaN</td>\n",
              "      <td>NaN</td>\n",
              "      <td>NaN</td>\n",
              "      <td>NaN</td>\n",
              "      <td>NaN</td>\n",
              "      <td>NaN</td>\n",
              "      <td>NaN</td>\n",
              "      <td>NaN</td>\n",
              "    </tr>\n",
              "    <tr>\n",
              "      <th>10758</th>\n",
              "      <td>f2cef0e2-fece-4499-9f99-c5719aff8b5a</td>\n",
              "      <td>TCGA-06-0150</td>\n",
              "      <td>GBM</td>\n",
              "      <td>MALE</td>\n",
              "      <td>Dead</td>\n",
              "      <td>-16442.0</td>\n",
              "      <td>592</td>\n",
              "      <td>NaN</td>\n",
              "      <td>0.0</td>\n",
              "      <td>45.0</td>\n",
              "      <td>...</td>\n",
              "      <td>NaN</td>\n",
              "      <td>NaN</td>\n",
              "      <td>NaN</td>\n",
              "      <td>NaN</td>\n",
              "      <td>NaN</td>\n",
              "      <td>NaN</td>\n",
              "      <td>NaN</td>\n",
              "      <td>NaN</td>\n",
              "      <td>NaN</td>\n",
              "      <td>NaN</td>\n",
              "    </tr>\n",
              "    <tr>\n",
              "      <th>10759</th>\n",
              "      <td>2cb9975f-2d1e-4c74-867f-8b151c22b246</td>\n",
              "      <td>TCGA-06-0119</td>\n",
              "      <td>GBM</td>\n",
              "      <td>FEMALE</td>\n",
              "      <td>Dead</td>\n",
              "      <td>-29606.0</td>\n",
              "      <td>82.0</td>\n",
              "      <td>NaN</td>\n",
              "      <td>0.0</td>\n",
              "      <td>81.0</td>\n",
              "      <td>...</td>\n",
              "      <td>NaN</td>\n",
              "      <td>NaN</td>\n",
              "      <td>NaN</td>\n",
              "      <td>NaN</td>\n",
              "      <td>NaN</td>\n",
              "      <td>NaN</td>\n",
              "      <td>NaN</td>\n",
              "      <td>NaN</td>\n",
              "      <td>NaN</td>\n",
              "      <td>NaN</td>\n",
              "    </tr>\n",
              "    <tr>\n",
              "      <th>10760</th>\n",
              "      <td>a9b5ef55-9987-4842-b4f3-d029265ef17f</td>\n",
              "      <td>TCGA-06-0160</td>\n",
              "      <td>GBM</td>\n",
              "      <td>FEMALE</td>\n",
              "      <td>Dead</td>\n",
              "      <td>-20684.0</td>\n",
              "      <td>359</td>\n",
              "      <td>NaN</td>\n",
              "      <td>0.0</td>\n",
              "      <td>56.0</td>\n",
              "      <td>...</td>\n",
              "      <td>NaN</td>\n",
              "      <td>NaN</td>\n",
              "      <td>NaN</td>\n",
              "      <td>NaN</td>\n",
              "      <td>NaN</td>\n",
              "      <td>NaN</td>\n",
              "      <td>NaN</td>\n",
              "      <td>NaN</td>\n",
              "      <td>NaN</td>\n",
              "      <td>NaN</td>\n",
              "    </tr>\n",
              "  </tbody>\n",
              "</table>\n",
              "<p>10761 rows × 746 columns</p>\n",
              "</div>"
            ],
            "text/plain": [
              "                           bcr_patient_uuid bcr_patient_barcode acronym  \\\n",
              "0      C2F1B2D5-1302-4E29-8889-37BA34E91DE2        TCGA-IQ-A6SG    HNSC   \n",
              "1      573E3713-781F-447E-9F4D-A7FAAE4A4F03        TCGA-IQ-A6SH    HNSC   \n",
              "2      59DD907E-C674-46C2-BCE7-63517D5AE7A7        TCGA-XP-A8T7    ESCA   \n",
              "3      F4CB24E9-E7FD-4245-9C9B-7E0934038446        TCGA-XP-A8T6    ESCA   \n",
              "4      9fa752b7-9873-4bad-9eba-8cc113705fed        TCGA-CD-5804    STAD   \n",
              "...                                     ...                 ...     ...   \n",
              "10756  a0700d6d-df7b-4327-8738-97b8ad08fd4c        TCGA-06-0240     GBM   \n",
              "10757  7529980c-839d-4887-b5d7-09a3e7159427        TCGA-06-0142     GBM   \n",
              "10758  f2cef0e2-fece-4499-9f99-c5719aff8b5a        TCGA-06-0150     GBM   \n",
              "10759  2cb9975f-2d1e-4c74-867f-8b151c22b246        TCGA-06-0119     GBM   \n",
              "10760  a9b5ef55-9987-4842-b4f3-d029265ef17f        TCGA-06-0160     GBM   \n",
              "\n",
              "       gender vital_status  days_to_birth     days_to_death  \\\n",
              "0      FEMALE        Alive       -22529.0  [Not Applicable]   \n",
              "1        MALE        Alive       -20109.0  [Not Applicable]   \n",
              "2      FEMALE        Alive       -23375.0  [Not Applicable]   \n",
              "3        MALE         Dead       -19886.0             763.0   \n",
              "4        MALE        Alive       -32872.0  [Not Applicable]   \n",
              "...       ...          ...            ...               ...   \n",
              "10756    MALE         Dead       -20937.0               621   \n",
              "10757    MALE         Dead       -29642.0                67   \n",
              "10758    MALE         Dead       -16442.0               592   \n",
              "10759  FEMALE         Dead       -29606.0              82.0   \n",
              "10760  FEMALE         Dead       -20684.0               359   \n",
              "\n",
              "      days_to_last_followup  days_to_initial_pathologic_diagnosis  \\\n",
              "0                     579.0                                   0.0   \n",
              "1                     471.0                                   0.0   \n",
              "2                    1254.0                                   0.0   \n",
              "3                       NaN                                   0.0   \n",
              "4                     368.0                                   0.0   \n",
              "...                     ...                                   ...   \n",
              "10756                   NaN                                   0.0   \n",
              "10757                   NaN                                   0.0   \n",
              "10758                   NaN                                   0.0   \n",
              "10759                   NaN                                   0.0   \n",
              "10760                   NaN                                   0.0   \n",
              "\n",
              "       age_at_initial_pathologic_diagnosis  ... total_bilirubin_upper_limit  \\\n",
              "0                                     61.0  ...                         NaN   \n",
              "1                                     55.0  ...                         NaN   \n",
              "2                                     63.0  ...                         NaN   \n",
              "3                                     54.0  ...                         NaN   \n",
              "4                                     90.0  ...                         NaN   \n",
              "...                                    ...  ...                         ...   \n",
              "10756                                 57.0  ...                         NaN   \n",
              "10757                                 81.0  ...                         NaN   \n",
              "10758                                 45.0  ...                         NaN   \n",
              "10759                                 81.0  ...                         NaN   \n",
              "10760                                 56.0  ...                         NaN   \n",
              "\n",
              "      platelet_result_count fibrosis_ishak_score fetoprotein_outcome_value  \\\n",
              "0                       NaN                  NaN                       NaN   \n",
              "1                       NaN                  NaN                       NaN   \n",
              "2                       NaN                  NaN                       NaN   \n",
              "3                       NaN                  NaN                       NaN   \n",
              "4                       NaN                  NaN                       NaN   \n",
              "...                     ...                  ...                       ...   \n",
              "10756                   NaN                  NaN                       NaN   \n",
              "10757                   NaN                  NaN                       NaN   \n",
              "10758                   NaN                  NaN                       NaN   \n",
              "10759                   NaN                  NaN                       NaN   \n",
              "10760                   NaN                  NaN                       NaN   \n",
              "\n",
              "      fetoprotein_outcome_upper_limit fetoprotein_outcome_lower_limit  \\\n",
              "0                                 NaN                             NaN   \n",
              "1                                 NaN                             NaN   \n",
              "2                                 NaN                             NaN   \n",
              "3                                 NaN                             NaN   \n",
              "4                                 NaN                             NaN   \n",
              "...                               ...                             ...   \n",
              "10756                             NaN                             NaN   \n",
              "10757                             NaN                             NaN   \n",
              "10758                             NaN                             NaN   \n",
              "10759                             NaN                             NaN   \n",
              "10760                             NaN                             NaN   \n",
              "\n",
              "      inter_norm_ratio_lower_limit family_cancer_type_txt  \\\n",
              "0                              NaN                    NaN   \n",
              "1                              NaN                    NaN   \n",
              "2                              NaN                    NaN   \n",
              "3                              NaN                    NaN   \n",
              "4                              NaN                    NaN   \n",
              "...                            ...                    ...   \n",
              "10756                          NaN                    NaN   \n",
              "10757                          NaN                    NaN   \n",
              "10758                          NaN                    NaN   \n",
              "10759                          NaN                    NaN   \n",
              "10760                          NaN                    NaN   \n",
              "\n",
              "      bilirubin_upper_limit days_to_last_known_alive  \n",
              "0                       NaN                      NaN  \n",
              "1                       NaN                      NaN  \n",
              "2                       NaN                      NaN  \n",
              "3                       NaN                      NaN  \n",
              "4                       NaN                      NaN  \n",
              "...                     ...                      ...  \n",
              "10756                   NaN                      NaN  \n",
              "10757                   NaN                      NaN  \n",
              "10758                   NaN                      NaN  \n",
              "10759                   NaN                      NaN  \n",
              "10760                   NaN                      NaN  \n",
              "\n",
              "[10761 rows x 746 columns]"
            ]
          },
          "execution_count": 22,
          "metadata": {},
          "output_type": "execute_result"
        }
      ],
      "source": [
        "df"
      ]
    },
    {
      "cell_type": "markdown",
      "metadata": {
        "id": "Y-V4jFlrFY0u"
      },
      "source": [
        "#1 How many columns are in this dataset?"
      ]
    },
    {
      "cell_type": "code",
      "execution_count": null,
      "metadata": {
        "id": "WkUL7OS5FY0v",
        "outputId": "366c620c-bd64-4fcf-e81b-e7ea41249dbe"
      },
      "outputs": [
        {
          "name": "stdout",
          "output_type": "stream",
          "text": [
            "Number of columns: 746\n"
          ]
        }
      ],
      "source": [
        "print('Number of columns:', len(df.columns))"
      ]
    },
    {
      "cell_type": "markdown",
      "metadata": {
        "id": "u1-CA9pYFY0w"
      },
      "source": [
        "#2 Breakdown columns by datatypes and counts"
      ]
    },
    {
      "cell_type": "code",
      "execution_count": null,
      "metadata": {
        "id": "6oWzTqCdFY0w",
        "outputId": "da4dbaa4-e329-4868-df75-4412ce053203"
      },
      "outputs": [
        {
          "data": {
            "text/plain": [
              "object     500\n",
              "float64    246\n",
              "dtype: int64"
            ]
          },
          "execution_count": 24,
          "metadata": {},
          "output_type": "execute_result"
        }
      ],
      "source": [
        "df.dtypes.value_counts()"
      ]
    },
    {
      "cell_type": "code",
      "execution_count": null,
      "metadata": {
        "id": "4WigLJI6FY0w"
      },
      "outputs": [],
      "source": [
        "#df.info(verbose=True)"
      ]
    },
    {
      "cell_type": "markdown",
      "metadata": {
        "id": "t_sdn4o0FY0x"
      },
      "source": [
        "#3 Breakdown counts by gender, race, and ethnicity"
      ]
    },
    {
      "cell_type": "code",
      "execution_count": null,
      "metadata": {
        "id": "AeI0qK-rFY0x",
        "outputId": "e45878cd-f654-4fee-da3d-f5f4e0759a90"
      },
      "outputs": [
        {
          "name": "stdout",
          "output_type": "stream",
          "text": [
            "FEMALE    5623\n",
            "MALE      5138\n",
            "Name: gender, dtype: int64 \n",
            "\n",
            "WHITE                                        7862\n",
            "BLACK OR AFRICAN AMERICAN                     902\n",
            "ASIAN                                         670\n",
            "[Not Evaluated]                               153\n",
            "[Unknown]                                     131\n",
            "AMERICAN INDIAN OR ALASKA NATIVE               27\n",
            "NATIVE HAWAIIAN OR OTHER PACIFIC ISLANDER      13\n",
            "Name: race, dtype: int64 \n",
            "\n",
            "NOT HISPANIC OR LATINO    7850\n",
            "[Not Evaluated]            573\n",
            "HISPANIC OR LATINO         366\n",
            "[Unknown]                  186\n",
            "Name: ethnicity, dtype: int64 \n",
            "\n"
          ]
        }
      ],
      "source": [
        "ls = ['gender', 'race', 'ethnicity']\n",
        "\n",
        "for col in ls:\n",
        "    print(df[col].value_counts(), '\\n')"
      ]
    },
    {
      "cell_type": "markdown",
      "metadata": {
        "id": "djNJ98gRFY0y"
      },
      "source": [
        "#4 Provide a report of missingness across all columns"
      ]
    },
    {
      "cell_type": "code",
      "execution_count": null,
      "metadata": {
        "id": "OerpP7AtFY0y",
        "outputId": "97da7653-8dbd-4c98-9922-d73fce58823e"
      },
      "outputs": [
        {
          "data": {
            "text/plain": [
              "bcr_patient_uuid                       0\n",
              "bcr_patient_barcode                    0\n",
              "acronym                                0\n",
              "gender                                 0\n",
              "vital_status                           4\n",
              "                                   ...  \n",
              "fetoprotein_outcome_lower_limit    10736\n",
              "inter_norm_ratio_lower_limit       10734\n",
              "family_cancer_type_txt             10740\n",
              "bilirubin_upper_limit              10729\n",
              "days_to_last_known_alive           10750\n",
              "Length: 746, dtype: int64"
            ]
          },
          "execution_count": 26,
          "metadata": {},
          "output_type": "execute_result"
        }
      ],
      "source": [
        "df.isna().sum()"
      ]
    },
    {
      "cell_type": "code",
      "execution_count": null,
      "metadata": {
        "id": "enfw0j3DFY0z",
        "outputId": "8c697a44-008f-4188-c615-30fd5bb711f8"
      },
      "outputs": [
        {
          "data": {
            "image/png": "[encoded data removed]",
            "text/plain": [
              "<Figure size 1440x720 with 1 Axes>"
            ]
          },
          "metadata": {
            "needs_background": "light"
          },
          "output_type": "display_data"
        }
      ],
      "source": [
        "# (#4 continued)\n",
        "\n",
        "#Generate a scatterplot showing what percent of each column is NaN \n",
        "\n",
        "values_list = []\n",
        "cols_list = []\n",
        "for idx, col in enumerate(df.columns):\n",
        "    percent_missing = df[col].isna().sum()/len(df)*100\n",
        "    cols_list.append(idx)\n",
        "    values_list.append(percent_missing)\n",
        "\n",
        "    \n",
        "plt.figure(figsize=(20,10))\n",
        "plt.scatter(cols_list, values_list)\n",
        "plt.ylabel('Percent of Data that is NaN')\n",
        "plt.xlabel('Column Number')\n",
        "\n",
        "plt.show() #appears the the later columns in the dataset are missing more values"
      ]
    },
    {
      "cell_type": "markdown",
      "metadata": {
        "id": "FmNBw7WoFY0z"
      },
      "source": [
        "#5 What's the average age of a patient in this dataset?"
      ]
    },
    {
      "cell_type": "code",
      "execution_count": null,
      "metadata": {
        "id": "ky91MX5NFY0z"
      },
      "outputs": [],
      "source": [
        "#df.isna().sum().head(n=50)\n",
        "#df.days_to_initial_pathologic_diagnosis.value_counts() #reutrns all 0's\n",
        "#df.days_to_last_followup.value_counts() #1839 missing values\n"
      ]
    },
    {
      "cell_type": "code",
      "execution_count": null,
      "metadata": {
        "id": "OyjGDOH9FY00",
        "outputId": "cf766db7-26dc-42b4-8afc-487f4c6241c9"
      },
      "outputs": [
        {
          "data": {
            "text/plain": [
              "count    10644.000000\n",
              "mean        59.649223\n",
              "std         14.381444\n",
              "min         10.909589\n",
              "25%         50.793151\n",
              "50%         60.898630\n",
              "75%         70.137671\n",
              "max         90.186301\n",
              "Name: days_to_birth, dtype: float64"
            ]
          },
          "execution_count": 28,
          "metadata": {},
          "output_type": "execute_result"
        }
      ],
      "source": [
        "#First method of determining age is to convert 'days_to_birth' into years by dividing by 365\n",
        "#This method does not account for leap years (relatively negligible) and reports the age of patients on the day their data is recorded in \\\n",
        "#the 'days_to_birth' column. \n",
        "#It does not assume any correlations between the day that 'days_to_birth' was recorded and any other column in the dataset.\n",
        "\n",
        "\n",
        "age = df['days_to_birth'].apply(lambda x: -x / 365) \n",
        "age.describe()"
      ]
    },
    {
      "cell_type": "code",
      "execution_count": null,
      "metadata": {
        "id": "fGZSpP_mFY00",
        "outputId": "f9f2134c-f373-46ec-c496-ae348d48ac71"
      },
      "outputs": [
        {
          "data": {
            "text/plain": [
              "count    10473.000000\n",
              "mean        62.885706\n",
              "std         14.703175\n",
              "min         16.000000\n",
              "25%         54.000000\n",
              "50%         64.000000\n",
              "75%         73.000000\n",
              "max        108.000000\n",
              "Name: age, dtype: float64"
            ]
          },
          "execution_count": 29,
          "metadata": {},
          "output_type": "execute_result"
        }
      ],
      "source": [
        "# (#5 continued)\n",
        "#Second method of finding age:\n",
        "#The assumption I made in this method is that the 'form_completion_date' is the date that the data are recorded for each patient \\\n",
        "#and is the same day that 'days_to_birth' was recorded.\n",
        "#Essentially, I assumed that on the day that the form was completed, each patient was 'days_to_birth' days old.\n",
        "\n",
        "#I also noticed that some of the days on the form completion date were '00', so I changed them to '15', the middle of the month\n",
        "#I got the year in which each patient completed the form, subtracted the year of initial diagnosis and added this value to age \\\n",
        "#of each patient when they were initially diagnosed.\n",
        "#This method returns the age of each patient at the time the form was completed.\n",
        "\n",
        "\n",
        "df2 = df.loc[:,['days_to_birth',\n",
        "                 'form_completion_date',\n",
        "                 'age_at_initial_pathologic_diagnosis', \n",
        "                 'year_of_initial_pathologic_diagnosis']]\n",
        "\n",
        "df2['form_completion_date'] = df2['form_completion_date'].str.replace('-00', '-15', regex=True)\n",
        "\n",
        "df2['form_completion_date'] = pd.to_datetime(df2['form_completion_date'])\n",
        "\n",
        "df2['current_year'] = df2['form_completion_date'].apply(lambda x: x.year)\n",
        "df2['age'] = df2['age_at_initial_pathologic_diagnosis'] + (df2['current_year'] -\n",
        "                                                                  df2['year_of_initial_pathologic_diagnosis'])\n",
        "\n",
        "df2['age'].describe()"
      ]
    },
    {
      "cell_type": "markdown",
      "metadata": {
        "id": "VRRxscCbFY01"
      },
      "source": [
        "#6 Provide a breakdown of the patients' birth year"
      ]
    },
    {
      "cell_type": "code",
      "execution_count": null,
      "metadata": {
        "id": "J7ioMCr9FY01",
        "outputId": "0e2e687a-32a5-44ae-fd06-56c736499bbb"
      },
      "outputs": [
        {
          "data": {
            "text/plain": [
              "<AxesSubplot:>"
            ]
          },
          "execution_count": 30,
          "metadata": {},
          "output_type": "execute_result"
        },
        {
          "data": {
            "image/png": "[encoded data removed]",
            "text/plain": [
              "<Figure size 432x288 with 1 Axes>"
            ]
          },
          "metadata": {
            "needs_background": "light"
          },
          "output_type": "display_data"
        }
      ],
      "source": [
        "#My initial approach to this question was to subtract 'days_to_birth' column from the day that the form was completed:\n",
        "#Similar to my second method to approaching question 5, I assumed that the days_to_birth was recorded on the day \\\n",
        "#that the form was completed.\n",
        "#I also noticed that there are dates on the 'form_completion_date' column that only contain a month and year, so \\\n",
        "#to account for this, I set the day to the middle of the month, on the 15th.\n",
        "#My code for this is commented out below:\n",
        "\n",
        "\"\"\"\n",
        "df2 = df.loc[:, ['days_to_birth','form_completion_date']]\n",
        "#df2.head(n=30)\n",
        "\n",
        "df2['form_completion_date'] = df2['form_completion_date'].str.replace('-00', '-15', regex=True)\n",
        "\n",
        "df2['form_completion_date'] = pd.to_datetime(df2['form_completion_date'])\n",
        "df2['bday']  = df2['form_completion_date'] +  pd.to_timedelta(df2['days_to_birth'], unit='d')\n",
        "df2.bday.hist()\n",
        "\"\"\"\n",
        "\n",
        "#I then realized that both the year and age at which each patient was initially diagnosed was recorded, making finding the birth year much simpler\n",
        "#Subtract age at initial diagnosis from year of initial diagnosis\n",
        "#A limitation to this method, however, is that it doesn't account for whether a patient has had their birthday \n",
        "#at the time when age at initial diagnosis was recorded\n",
        "\n",
        "(df['year_of_initial_pathologic_diagnosis'] - df['age_at_initial_pathologic_diagnosis']).hist()"
      ]
    },
    {
      "cell_type": "markdown",
      "metadata": {
        "id": "1gY9gm7hFY02"
      },
      "source": [
        "#7 Provide a list of the top 20 sorted values of the ECOG column"
      ]
    },
    {
      "cell_type": "code",
      "execution_count": null,
      "metadata": {
        "id": "Tln-H2X6FY02",
        "outputId": "93eb61cd-b456-4b8b-b713-35f56f0ea1b1"
      },
      "outputs": [
        {
          "data": {
            "text/plain": [
              "eastern_cancer_oncology_group  karnofsky_performance_score\n",
              "0                              100                            150\n",
              "1                              90                             133\n",
              "                               80                             101\n",
              "0                              90                              50\n",
              "2                              80                              21\n",
              "                               60                              17\n",
              "1                              70                               9\n",
              "2                              70                               9\n",
              "3                              40                               6\n",
              "1                              0                                3\n",
              "2                              90                               3\n",
              "                               50                               3\n",
              "3                              70                               2\n",
              "4                              50                               2\n",
              "1                              60                               2\n",
              "                               100                              2\n",
              "0                              80                               2\n",
              "2                              0                                1\n",
              "3                              60                               1\n",
              "0                              70                               1\n",
              "dtype: int64"
            ]
          },
          "execution_count": 31,
          "metadata": {},
          "output_type": "execute_result"
        }
      ],
      "source": [
        "#Since there are only 6 possible values for one's ECOG Performance Status (0-5), I cross-referenced the values in this column with Karnofsky \\\n",
        "#performance status, a similarly used method for assessing the functional status of a patient.\n",
        "\n",
        "#Below I provide the top 20 most common values for patients' ECOG values based on their assessed ECOG and Karnofsky statuses.\n",
        "#I also disregarded values 'Not Evaluated' and 'Uknown'.\n",
        "\n",
        "df3 = df[['eastern_cancer_oncology_group', 'karnofsky_performance_score']]\n",
        "df4 = df3.replace(to_replace=['[Not Evaluated]', '[Unknown]'], value = np.nan)\n",
        "df4.groupby(['eastern_cancer_oncology_group', 'karnofsky_performance_score'], dropna=True).size().sort_values(ascending=False).head(n=20)"
      ]
    },
    {
      "cell_type": "markdown",
      "metadata": {
        "id": "9DZQak59FY02"
      },
      "source": [
        "#8 Identify Metastatic Cancer patients and group them by ICD codes"
      ]
    },
    {
      "cell_type": "code",
      "execution_count": null,
      "metadata": {
        "id": "ONYaXLSXFY02",
        "outputId": "0345de9c-bbf0-4f94-9231-c8bb478abb4a"
      },
      "outputs": [
        {
          "data": {
            "text/plain": [
              "<AxesSubplot:>"
            ]
          },
          "execution_count": 32,
          "metadata": {},
          "output_type": "execute_result"
        },
        {
          "data": {
            "image/png": "[encoded data removed]",
            "text/plain": [
              "<Figure size 1440x720 with 1 Axes>"
            ]
          },
          "metadata": {
            "needs_background": "light"
          },
          "output_type": "display_data"
        }
      ],
      "source": [
        "#Select columns of interest and use str.contains() to identify Stage 4 or M1 values\n",
        "\n",
        "icd_df = df[df['pathologic_M'].str.contains('M1') | \n",
        "            df['clinical_M'].str.contains('M1') | \n",
        "            df['pathologic_stage'].str.contains('Stage IV') | \n",
        "            df['clinical_stage'].str.contains('Stage IV')]['icd_10']\n",
        "\n",
        "icd_df.value_counts().plot(kind='bar', figsize=(20, 10))"
      ]
    },
    {
      "cell_type": "markdown",
      "metadata": {
        "id": "xPPtksY4FY03"
      },
      "source": [
        "#9 Provide a survival analysis of all Breast Cancer patients"
      ]
    },
    {
      "cell_type": "code",
      "execution_count": null,
      "metadata": {
        "id": "NQsWQIqGFY03"
      },
      "outputs": [],
      "source": [
        "\"\"\" \n",
        "https://www.icd10data.com/ICD10CM/Codes/C00-D49/C50-C50/C50-  - According to this source, ICD-10 code for breast cancer \n",
        "patients contain \"C50.xxx\", where the \"50\" before the decimal indicates breast cancer, and digits following indicate a \n",
        "more specific location. I will be using all patients with icd-10 codes that match \"C50.\" for the survival analysis. \n",
        "\n",
        "\n",
        "\n",
        "\n",
        "I chose to use 'days_to_death' column to represent the time of survival because:\n",
        "I noticed that the days_to_birth column were negative values, leading me to suspect that the negative values represented \\\n",
        "days AFTER birth.\n",
        "Since the days_to_death column values are positive integers, these values must represent days from a certain \\\n",
        "significant point in time for each patient (I assume start of treatment) leading up to death. \n",
        "\"\"\"\n",
        "\n",
        "#Create df of only breast cancer patients\n",
        "\n",
        "df_bc = df[df['icd_10'].str.contains('C50.', na=False)].loc[:, ['days_to_death','vital_status']]\n"
      ]
    },
    {
      "cell_type": "code",
      "execution_count": null,
      "metadata": {
        "id": "1O6cC6JDFY03",
        "outputId": "a68382ef-5391-4ffe-8608-80e375545302"
      },
      "outputs": [
        {
          "data": {
            "text/plain": [
              "0    938\n",
              "1    151\n",
              "Name: vital_status, dtype: int64"
            ]
          },
          "execution_count": 34,
          "metadata": {},
          "output_type": "execute_result"
        }
      ],
      "source": [
        "#df_bc.days_to_death.value_counts() #returns 938 'Not Applicable', which corresponds to the 938 'Alive' vital_status patients\n",
        "\n",
        "#Relabel vital_status column and perform censoring\n",
        "\n",
        "df_bc.loc[(df.vital_status == 'Alive'),'vital_status'] = 0\n",
        "df_bc.loc[(df.vital_status == 'Dead'), 'vital_status'] = 1\n",
        "\n",
        "\n",
        "# pd.isnull(df_bc).value_counts() #found one NaN where [Not Applicable] should be, replace it with NaN\n",
        "df_bc = df_bc.fillna('[Not Applicable]')\n",
        "\n",
        "\n",
        "# df_bc = df_bc.astype(str).replace('[Not Applicable]', np.nan) \n",
        "# dc_bc['days_to_death'].max() \n",
        "#With the above code, I found the max survival of a patient that passed away to be 991 days, so I set survival time \\\n",
        "#of the patients that have not experienced the event of interest to 991 for the purposes of converting the time column \\\n",
        "#to type float.\n",
        "\n",
        "df_bc['days_to_death'] = df_bc['days_to_death'].replace(to_replace='[Not Applicable]', value = 991)\n",
        "df_bc['days_to_death']  = df_bc.days_to_death.astype(float)\n",
        "\n",
        "df_bc['vital_status'].value_counts()"
      ]
    },
    {
      "cell_type": "code",
      "execution_count": null,
      "metadata": {
        "id": "49h7Dz41FY03",
        "outputId": "0f6289bd-6100-44e6-ac48-17cb65757eb5"
      },
      "outputs": [
        {
          "data": {
            "image/png": "[encoded data removed]",
            "text/plain": [
              "<Figure size 432x288 with 2 Axes>"
            ]
          },
          "metadata": {
            "needs_background": "light"
          },
          "output_type": "display_data"
        }
      ],
      "source": [
        "kmf = KaplanMeierFitter()\n",
        "\n",
        "T = df_bc['days_to_death']\n",
        "E = df_bc['vital_status']\n",
        "\n",
        "kmf.fit(T, event_observed=E)\n",
        "\n",
        "kmf.plot_survival_function(at_risk_counts=True)\n",
        "\n",
        "plt.title('Kaplan Meier Curve')\n",
        "plt.ylabel('Probability of a patient surviving')\n",
        "plt.show()\n"
      ]
    },
    {
      "cell_type": "markdown",
      "metadata": {
        "id": "Svs_pGsDFY04"
      },
      "source": [
        "Further Exploration of Data"
      ]
    },
    {
      "cell_type": "code",
      "execution_count": null,
      "metadata": {
        "id": "7BECbgN7FY04",
        "outputId": "19c2320e-35c6-488b-ef05-4f7fb61dd870"
      },
      "outputs": [
        {
          "data": {
            "image/png": "[encoded data removed]",
            "text/plain": [
              "<Figure size 432x288 with 1 Axes>"
            ]
          },
          "metadata": {
            "needs_background": "light"
          },
          "output_type": "display_data"
        }
      ],
      "source": [
        "#Below I wanted to analyze the differing survival functions for white and non-white breast cancer patients  \n",
        "\n",
        "df_bc2 = df[df['icd_10'].str.contains('C50.', na=False)].loc[:, ['days_to_death','vital_status', 'race']]\n",
        "\n",
        "ax = plt.subplot(111)\n",
        "\n",
        "white = (df_bc2['race'] == 'WHITE')\n",
        "\n",
        "kmf.fit(T[white], event_observed=E[white], label=\"White Patitents\")\n",
        "kmf.plot_survival_function(ax=ax)\n",
        "\n",
        "kmf.fit(T[~white], event_observed=E[~white], label=\"Non-White Patients\")\n",
        "kmf.plot_survival_function(ax=ax)\n",
        "\n",
        "plt.title(\"Lifespans of white patients vs non-white patients\"); #not many events observed for non-white breast cancer patients \\\n",
        "#resulting in large drops in function and large confidence interval range "
      ]
    },
    {
      "cell_type": "code",
      "execution_count": null,
      "metadata": {
        "id": "J_cmPCfyFY04",
        "outputId": "dabfa98d-4b63-4690-8e12-5450903d98a2"
      },
      "outputs": [
        {
          "name": "stdout",
          "output_type": "stream",
          "text": [
            "          NA_estimate\n",
            "timeline             \n",
            "0.0          0.000000\n",
            "116.0        0.000918\n",
            "158.0        0.001837\n",
            "160.0        0.002757\n",
            "172.0        0.003678\n"
          ]
        },
        {
          "data": {
            "image/png": "[encoded data removed]",
            "text/plain": [
              "<Figure size 432x288 with 1 Axes>"
            ]
          },
          "metadata": {
            "needs_background": "light"
          },
          "output_type": "display_data"
        }
      ],
      "source": [
        "#Below I wanted to play around with the Nelson Aalen estimator for visualizing hazard rate function\n",
        "\n",
        "naf = NelsonAalenFitter()\n",
        "\n",
        "naf.fit(T, event_observed=E)\n",
        "\n",
        "print(naf.cumulative_hazard_.head())\n",
        "naf.plot_cumulative_hazard()\n",
        "\n",
        "plt.title('Nelson Aalen Hazard Function of Breast Cancer Patients')\n",
        "plt.show()\n"
      ]
    },
    {
      "cell_type": "markdown",
      "metadata": {
        "id": "NUDWij1ZFY04"
      },
      "source": [
        "With a little more information on when this data was recorded (specifically meanings of days_to_birth and days_to_death columns), it would be possible to increase the accuracy of the reports of the patients' age and subsequently, the accuracy of the survival analyses.\n",
        "It would also be very interesting to explore covariates and how different models affect relationship between the survival time of individuals and predictor variables."
      ]
    },
    {
      "cell_type": "code",
      "execution_count": null,
      "metadata": {
        "id": "3PlxgkPCFY04"
      },
      "outputs": [],
      "source": [
        ""
      ]
    }
  ],
  "metadata": {
    "kernelspec": {
      "display_name": "Python 3",
      "language": "python",
      "name": "python3"
    },
    "language_info": {
      "codemirror_mode": {
        "name": "ipython",
        "version": 3
      },
      "file_extension": ".py",
      "mimetype": "text/x-python",
      "name": "python",
      "nbconvert_exporter": "python",
      "pygments_lexer": "ipython3",
      "version": "3.8.5"
    },
    "colab": {
      "name": "cancer_survival_analysis.ipynb",
      "provenance": [],
      "collapsed_sections": []
    }
  },
  "nbformat": 4,
  "nbformat_minor": 0
}